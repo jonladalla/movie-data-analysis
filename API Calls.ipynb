{
 "cells": [
  {
   "cell_type": "markdown",
   "id": "5980a3cb",
   "metadata": {},
   "source": [
    "# Getting TMDB Genre Codes"
   ]
  },
  {
   "cell_type": "code",
   "execution_count": 1,
   "id": "02d644a8",
   "metadata": {},
   "outputs": [],
   "source": [
    "import requests\n",
    "import pandas as pd\n",
    "from config import tmdb_key"
   ]
  },
  {
   "cell_type": "code",
   "execution_count": 2,
   "id": "bbb505a5",
   "metadata": {},
   "outputs": [
    {
     "data": {
      "text/plain": [
       "<Response [200]>"
      ]
     },
     "execution_count": 2,
     "metadata": {},
     "output_type": "execute_result"
    }
   ],
   "source": [
    "genres = requests.get(f'https://api.themoviedb.org/3/genre/movie/list?api_key={tmdb_key}&language=en-US')\n",
    "genres"
   ]
  },
  {
   "cell_type": "code",
   "execution_count": 3,
   "id": "2216cdc7",
   "metadata": {},
   "outputs": [],
   "source": [
    "genres = genres.json()"
   ]
  },
  {
   "cell_type": "code",
   "execution_count": 4,
   "id": "4b0ceb70",
   "metadata": {},
   "outputs": [],
   "source": [
    "genres = genres['genres']"
   ]
  },
  {
   "cell_type": "code",
   "execution_count": 5,
   "id": "c8b929eb",
   "metadata": {},
   "outputs": [
    {
     "data": {
      "text/plain": [
       "[{'id': 28, 'name': 'Action'},\n",
       " {'id': 12, 'name': 'Adventure'},\n",
       " {'id': 16, 'name': 'Animation'},\n",
       " {'id': 35, 'name': 'Comedy'},\n",
       " {'id': 80, 'name': 'Crime'},\n",
       " {'id': 99, 'name': 'Documentary'},\n",
       " {'id': 18, 'name': 'Drama'},\n",
       " {'id': 10751, 'name': 'Family'},\n",
       " {'id': 14, 'name': 'Fantasy'},\n",
       " {'id': 36, 'name': 'History'},\n",
       " {'id': 27, 'name': 'Horror'},\n",
       " {'id': 10402, 'name': 'Music'},\n",
       " {'id': 9648, 'name': 'Mystery'},\n",
       " {'id': 10749, 'name': 'Romance'},\n",
       " {'id': 878, 'name': 'Science Fiction'},\n",
       " {'id': 10770, 'name': 'TV Movie'},\n",
       " {'id': 53, 'name': 'Thriller'},\n",
       " {'id': 10752, 'name': 'War'},\n",
       " {'id': 37, 'name': 'Western'}]"
      ]
     },
     "execution_count": 5,
     "metadata": {},
     "output_type": "execute_result"
    }
   ],
   "source": [
    "genres"
   ]
  },
  {
   "cell_type": "code",
   "execution_count": 7,
   "id": "57c32dc0",
   "metadata": {},
   "outputs": [],
   "source": [
    "df = pd.DataFrame.from_dict(genres)"
   ]
  },
  {
   "cell_type": "code",
   "execution_count": 9,
   "id": "56fcd22b",
   "metadata": {},
   "outputs": [],
   "source": [
    "df.to_csv('TMDB Genres.csv', index=False)"
   ]
  }
 ],
 "metadata": {
  "kernelspec": {
   "display_name": "Python 3",
   "language": "python",
   "name": "python3"
  },
  "language_info": {
   "codemirror_mode": {
    "name": "ipython",
    "version": 3
   },
   "file_extension": ".py",
   "mimetype": "text/x-python",
   "name": "python",
   "nbconvert_exporter": "python",
   "pygments_lexer": "ipython3",
   "version": "3.8.8"
  }
 },
 "nbformat": 4,
 "nbformat_minor": 5
}
