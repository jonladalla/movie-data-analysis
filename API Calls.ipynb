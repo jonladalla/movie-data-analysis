{
 "cells": [
  {
   "cell_type": "markdown",
   "id": "5980a3cb",
   "metadata": {},
   "source": [
    "# Getting TMDB Genre Codes"
   ]
  },
  {
   "cell_type": "code",
   "execution_count": 1,
   "id": "02d644a8",
   "metadata": {},
   "outputs": [],
   "source": [
    "import requests\n",
    "import pandas as pd\n",
    "from config import tmdb_key"
   ]
  },
  {
   "cell_type": "code",
   "execution_count": 2,
   "id": "bbb505a5",
   "metadata": {},
   "outputs": [
    {
     "data": {
      "text/plain": [
       "<Response [200]>"
      ]
     },
     "execution_count": 2,
     "metadata": {},
     "output_type": "execute_result"
    }
   ],
   "source": [
    "genres = requests.get(f'https://api.themoviedb.org/3/genre/movie/list?api_key={tmdb_key}&language=en-US')\n",
    "genres"
   ]
  },
  {
   "cell_type": "code",
   "execution_count": 3,
   "id": "2216cdc7",
   "metadata": {},
   "outputs": [],
   "source": [
    "genres = genres.json()"
   ]
  },
  {
   "cell_type": "code",
   "execution_count": 4,
   "id": "4b0ceb70",
   "metadata": {},
   "outputs": [],
   "source": [
    "genres = genres['genres']"
   ]
  },
  {
   "cell_type": "code",
   "execution_count": 5,
   "id": "c8b929eb",
   "metadata": {},
   "outputs": [
    {
     "data": {
      "text/plain": [
       "[{'id': 28, 'name': 'Action'},\n",
       " {'id': 12, 'name': 'Adventure'},\n",
       " {'id': 16, 'name': 'Animation'},\n",
       " {'id': 35, 'name': 'Comedy'},\n",
       " {'id': 80, 'name': 'Crime'},\n",
       " {'id': 99, 'name': 'Documentary'},\n",
       " {'id': 18, 'name': 'Drama'},\n",
       " {'id': 10751, 'name': 'Family'},\n",
       " {'id': 14, 'name': 'Fantasy'},\n",
       " {'id': 36, 'name': 'History'},\n",
       " {'id': 27, 'name': 'Horror'},\n",
       " {'id': 10402, 'name': 'Music'},\n",
       " {'id': 9648, 'name': 'Mystery'},\n",
       " {'id': 10749, 'name': 'Romance'},\n",
       " {'id': 878, 'name': 'Science Fiction'},\n",
       " {'id': 10770, 'name': 'TV Movie'},\n",
       " {'id': 53, 'name': 'Thriller'},\n",
       " {'id': 10752, 'name': 'War'},\n",
       " {'id': 37, 'name': 'Western'}]"
      ]
     },
     "execution_count": 5,
     "metadata": {},
     "output_type": "execute_result"
    }
   ],
   "source": [
    "genres"
   ]
  },
  {
   "cell_type": "code",
   "execution_count": 7,
   "id": "57c32dc0",
   "metadata": {},
   "outputs": [],
   "source": [
    "df = pd.DataFrame.from_dict(genres)"
   ]
  },
  {
   "cell_type": "code",
   "execution_count": 9,
   "id": "56fcd22b",
   "metadata": {},
   "outputs": [],
   "source": [
    "df.to_csv('TMDB Genres.csv', index=False)"
   ]
  },
  {
   "cell_type": "markdown",
   "id": "2fbae2a0",
   "metadata": {},
   "source": [
    "# Retrieve More Info About the Netflix Top Ten"
   ]
  },
  {
   "cell_type": "code",
   "execution_count": 2,
   "id": "2c64aaad",
   "metadata": {},
   "outputs": [],
   "source": [
    "netflix_df = pd.read_csv('Data/Edited Data/Netflix Top 10.csv')"
   ]
  },
  {
   "cell_type": "code",
   "execution_count": 3,
   "id": "7ea26231",
   "metadata": {},
   "outputs": [
    {
     "data": {
      "text/html": [
       "<div>\n",
       "<style scoped>\n",
       "    .dataframe tbody tr th:only-of-type {\n",
       "        vertical-align: middle;\n",
       "    }\n",
       "\n",
       "    .dataframe tbody tr th {\n",
       "        vertical-align: top;\n",
       "    }\n",
       "\n",
       "    .dataframe thead th {\n",
       "        text-align: right;\n",
       "    }\n",
       "</style>\n",
       "<table border=\"1\" class=\"dataframe\">\n",
       "  <thead>\n",
       "    <tr style=\"text-align: right;\">\n",
       "      <th></th>\n",
       "      <th>Title</th>\n",
       "      <th>Type</th>\n",
       "      <th>Netflix Release Date</th>\n",
       "      <th>Days in Top Ten</th>\n",
       "      <th>Viewership Score</th>\n",
       "    </tr>\n",
       "  </thead>\n",
       "  <tbody>\n",
       "    <tr>\n",
       "      <th>0</th>\n",
       "      <td>Cocomelon</td>\n",
       "      <td>TV Show</td>\n",
       "      <td>1-Jun-20</td>\n",
       "      <td>220</td>\n",
       "      <td>730</td>\n",
       "    </tr>\n",
       "    <tr>\n",
       "      <th>1</th>\n",
       "      <td>The Queen's Gambit</td>\n",
       "      <td>TV Show</td>\n",
       "      <td>23-Oct-20</td>\n",
       "      <td>73</td>\n",
       "      <td>446</td>\n",
       "    </tr>\n",
       "    <tr>\n",
       "      <th>2</th>\n",
       "      <td>Bridgerton</td>\n",
       "      <td>TV Show</td>\n",
       "      <td>25-Dec-20</td>\n",
       "      <td>58</td>\n",
       "      <td>432</td>\n",
       "    </tr>\n",
       "    <tr>\n",
       "      <th>3</th>\n",
       "      <td>Cobra Kai</td>\n",
       "      <td>TV Show</td>\n",
       "      <td>28-Aug-20</td>\n",
       "      <td>53</td>\n",
       "      <td>370</td>\n",
       "    </tr>\n",
       "    <tr>\n",
       "      <th>4</th>\n",
       "      <td>Ginny &amp; Georgia</td>\n",
       "      <td>TV Show</td>\n",
       "      <td>24-Feb-21</td>\n",
       "      <td>44</td>\n",
       "      <td>335</td>\n",
       "    </tr>\n",
       "    <tr>\n",
       "      <th>...</th>\n",
       "      <td>...</td>\n",
       "      <td>...</td>\n",
       "      <td>...</td>\n",
       "      <td>...</td>\n",
       "      <td>...</td>\n",
       "    </tr>\n",
       "    <tr>\n",
       "      <th>144</th>\n",
       "      <td>The Secret Life of Pets 2</td>\n",
       "      <td>Movie</td>\n",
       "      <td>27-Dec-19</td>\n",
       "      <td>1</td>\n",
       "      <td>2</td>\n",
       "    </tr>\n",
       "    <tr>\n",
       "      <th>145</th>\n",
       "      <td>Your Highness</td>\n",
       "      <td>Movie</td>\n",
       "      <td>1-May-21</td>\n",
       "      <td>1</td>\n",
       "      <td>2</td>\n",
       "    </tr>\n",
       "    <tr>\n",
       "      <th>146</th>\n",
       "      <td>Are We There Yet?</td>\n",
       "      <td>Movie</td>\n",
       "      <td>1-Feb-21</td>\n",
       "      <td>1</td>\n",
       "      <td>1</td>\n",
       "    </tr>\n",
       "    <tr>\n",
       "      <th>147</th>\n",
       "      <td>Step Up Revolution</td>\n",
       "      <td>Movie</td>\n",
       "      <td>1-Mar-21</td>\n",
       "      <td>1</td>\n",
       "      <td>1</td>\n",
       "    </tr>\n",
       "    <tr>\n",
       "      <th>148</th>\n",
       "      <td>The BFG</td>\n",
       "      <td>Movie</td>\n",
       "      <td>15-Mar-21</td>\n",
       "      <td>1</td>\n",
       "      <td>1</td>\n",
       "    </tr>\n",
       "  </tbody>\n",
       "</table>\n",
       "<p>149 rows × 5 columns</p>\n",
       "</div>"
      ],
      "text/plain": [
       "                         Title     Type Netflix Release Date  Days in Top Ten  \\\n",
       "0                    Cocomelon  TV Show             1-Jun-20              220   \n",
       "1           The Queen's Gambit  TV Show            23-Oct-20               73   \n",
       "2                   Bridgerton  TV Show            25-Dec-20               58   \n",
       "3                    Cobra Kai  TV Show            28-Aug-20               53   \n",
       "4              Ginny & Georgia  TV Show            24-Feb-21               44   \n",
       "..                         ...      ...                  ...              ...   \n",
       "144  The Secret Life of Pets 2    Movie            27-Dec-19                1   \n",
       "145              Your Highness    Movie             1-May-21                1   \n",
       "146          Are We There Yet?    Movie             1-Feb-21                1   \n",
       "147         Step Up Revolution    Movie             1-Mar-21                1   \n",
       "148                    The BFG    Movie            15-Mar-21                1   \n",
       "\n",
       "     Viewership Score  \n",
       "0                 730  \n",
       "1                 446  \n",
       "2                 432  \n",
       "3                 370  \n",
       "4                 335  \n",
       "..                ...  \n",
       "144                 2  \n",
       "145                 2  \n",
       "146                 1  \n",
       "147                 1  \n",
       "148                 1  \n",
       "\n",
       "[149 rows x 5 columns]"
      ]
     },
     "execution_count": 3,
     "metadata": {},
     "output_type": "execute_result"
    }
   ],
   "source": [
    "netflix_df"
   ]
  },
  {
   "cell_type": "code",
   "execution_count": 35,
   "id": "98b835a8",
   "metadata": {},
   "outputs": [
    {
     "data": {
      "text/plain": [
       "{'adult': False,\n",
       " 'backdrop_path': '/fJBDucBJmNo8pk2trsqmezoM2UZ.jpg',\n",
       " 'genre_ids': [35, 12, 14],\n",
       " 'id': 38319,\n",
       " 'media_type': 'movie',\n",
       " 'original_language': 'en',\n",
       " 'original_title': 'Your Highness',\n",
       " 'overview': \"A fantasy movie about an arrogant, lazy prince and his more heroic brother who must complete a quest in order to save their father's kingdom.\",\n",
       " 'popularity': 12.029,\n",
       " 'poster_path': '/bq3gU60TkgBjLUbxSSZVhDhlhmH.jpg',\n",
       " 'release_date': '2011-04-08',\n",
       " 'title': 'Your Highness',\n",
       " 'video': False,\n",
       " 'vote_average': 5.3,\n",
       " 'vote_count': 977}"
      ]
     },
     "execution_count": 35,
     "metadata": {},
     "output_type": "execute_result"
    }
   ],
   "source": [
    "request = requests.get(f'https://api.themoviedb.org/3/search/multi?api_key={tmdb_key}&query={query}')\n",
    "data = request.json()\n",
    "data['results'][0]"
   ]
  },
  {
   "cell_type": "code",
   "execution_count": 36,
   "id": "26c20bf0",
   "metadata": {},
   "outputs": [],
   "source": [
    "queries = list(netflix_df['Title'])"
   ]
  },
  {
   "cell_type": "code",
   "execution_count": 37,
   "id": "abf4f328",
   "metadata": {},
   "outputs": [],
   "source": [
    "info = []\n",
    "\n",
    "for query in queries:\n",
    "    request = requests.get(f'https://api.themoviedb.org/3/search/multi?api_key={tmdb_key}&query={query}')\n",
    "    data = request.json()\n",
    "    info.append(data['results'][0])"
   ]
  },
  {
   "cell_type": "code",
   "execution_count": 40,
   "id": "fdf3e751",
   "metadata": {},
   "outputs": [
    {
     "data": {
      "text/plain": [
       "list"
      ]
     },
     "execution_count": 40,
     "metadata": {},
     "output_type": "execute_result"
    }
   ],
   "source": [
    "type(info)"
   ]
  },
  {
   "cell_type": "code",
   "execution_count": 41,
   "id": "07946fda",
   "metadata": {},
   "outputs": [],
   "source": [
    "additional_df = pd.DataFrame.from_dict(info)"
   ]
  },
  {
   "cell_type": "code",
   "execution_count": 46,
   "id": "21dd630a",
   "metadata": {},
   "outputs": [
    {
     "data": {
      "text/html": [
       "<div>\n",
       "<style scoped>\n",
       "    .dataframe tbody tr th:only-of-type {\n",
       "        vertical-align: middle;\n",
       "    }\n",
       "\n",
       "    .dataframe tbody tr th {\n",
       "        vertical-align: top;\n",
       "    }\n",
       "\n",
       "    .dataframe thead th {\n",
       "        text-align: right;\n",
       "    }\n",
       "</style>\n",
       "<table border=\"1\" class=\"dataframe\">\n",
       "  <thead>\n",
       "    <tr style=\"text-align: right;\">\n",
       "      <th></th>\n",
       "      <th>backdrop_path</th>\n",
       "      <th>first_air_date</th>\n",
       "      <th>genre_ids</th>\n",
       "      <th>id</th>\n",
       "      <th>media_type</th>\n",
       "      <th>name</th>\n",
       "      <th>origin_country</th>\n",
       "      <th>original_language</th>\n",
       "      <th>original_name</th>\n",
       "      <th>overview</th>\n",
       "      <th>popularity</th>\n",
       "      <th>poster_path</th>\n",
       "      <th>vote_average</th>\n",
       "      <th>vote_count</th>\n",
       "      <th>adult</th>\n",
       "      <th>original_title</th>\n",
       "      <th>release_date</th>\n",
       "      <th>title</th>\n",
       "      <th>video</th>\n",
       "    </tr>\n",
       "  </thead>\n",
       "  <tbody>\n",
       "    <tr>\n",
       "      <th>0</th>\n",
       "      <td>/qvayCcPYYae6tVDbMgklhTFZ9xo.jpg</td>\n",
       "      <td>2020-11-01</td>\n",
       "      <td>[16, 10762]</td>\n",
       "      <td>114718</td>\n",
       "      <td>tv</td>\n",
       "      <td>CoComelon</td>\n",
       "      <td>[GB, US]</td>\n",
       "      <td>en</td>\n",
       "      <td>CoComelon</td>\n",
       "      <td>Cocomelon Kids Hits, Vol. 1</td>\n",
       "      <td>2.744</td>\n",
       "      <td>/ngFacWQt0QxR6NArhQ4kj8a4IkA.jpg</td>\n",
       "      <td>6.6</td>\n",
       "      <td>5</td>\n",
       "      <td>NaN</td>\n",
       "      <td>NaN</td>\n",
       "      <td>NaN</td>\n",
       "      <td>NaN</td>\n",
       "      <td>NaN</td>\n",
       "    </tr>\n",
       "    <tr>\n",
       "      <th>1</th>\n",
       "      <td>/34OGjFEbHj0E3lE2w0iTUVq0CBz.jpg</td>\n",
       "      <td>2020-10-23</td>\n",
       "      <td>[18]</td>\n",
       "      <td>87739</td>\n",
       "      <td>tv</td>\n",
       "      <td>The Queen's Gambit</td>\n",
       "      <td>[US]</td>\n",
       "      <td>en</td>\n",
       "      <td>The Queen's Gambit</td>\n",
       "      <td>In a Kentucky orphanage in the 1950s, a young ...</td>\n",
       "      <td>100.144</td>\n",
       "      <td>/zU0htwkhNvBQdVSIKB9s6hgVeFK.jpg</td>\n",
       "      <td>8.7</td>\n",
       "      <td>1933</td>\n",
       "      <td>NaN</td>\n",
       "      <td>NaN</td>\n",
       "      <td>NaN</td>\n",
       "      <td>NaN</td>\n",
       "      <td>NaN</td>\n",
       "    </tr>\n",
       "    <tr>\n",
       "      <th>2</th>\n",
       "      <td>/m7FqiUOvsSk7Ulg2oRMfFGcLeT9.jpg</td>\n",
       "      <td>2020-12-25</td>\n",
       "      <td>[18]</td>\n",
       "      <td>91239</td>\n",
       "      <td>tv</td>\n",
       "      <td>Bridgerton</td>\n",
       "      <td>[US]</td>\n",
       "      <td>en</td>\n",
       "      <td>Bridgerton</td>\n",
       "      <td>Wealth, lust, and betrayal set in the backdrop...</td>\n",
       "      <td>99.582</td>\n",
       "      <td>/qaewZKBKmXjb4ZfFBb1LCug6BE8.jpg</td>\n",
       "      <td>8.2</td>\n",
       "      <td>1124</td>\n",
       "      <td>NaN</td>\n",
       "      <td>NaN</td>\n",
       "      <td>NaN</td>\n",
       "      <td>NaN</td>\n",
       "      <td>NaN</td>\n",
       "    </tr>\n",
       "    <tr>\n",
       "      <th>3</th>\n",
       "      <td>/gL8myjGc2qrmqVosyGm5CWTir9A.jpg</td>\n",
       "      <td>2018-05-02</td>\n",
       "      <td>[10759, 18]</td>\n",
       "      <td>77169</td>\n",
       "      <td>tv</td>\n",
       "      <td>Cobra Kai</td>\n",
       "      <td>[US]</td>\n",
       "      <td>en</td>\n",
       "      <td>Cobra Kai</td>\n",
       "      <td>This Karate Kid sequel series picks up 30 year...</td>\n",
       "      <td>329.624</td>\n",
       "      <td>/4CkQvdUAtoLW3qkjWi7t1MTnW7R.jpg</td>\n",
       "      <td>8.1</td>\n",
       "      <td>3157</td>\n",
       "      <td>NaN</td>\n",
       "      <td>NaN</td>\n",
       "      <td>NaN</td>\n",
       "      <td>NaN</td>\n",
       "      <td>NaN</td>\n",
       "    </tr>\n",
       "    <tr>\n",
       "      <th>4</th>\n",
       "      <td>/zQwFXzdFkkfar7IeMSzVsMJXSU7.jpg</td>\n",
       "      <td>2021-02-24</td>\n",
       "      <td>[35, 18]</td>\n",
       "      <td>117581</td>\n",
       "      <td>tv</td>\n",
       "      <td>Ginny &amp; Georgia</td>\n",
       "      <td>[US]</td>\n",
       "      <td>en</td>\n",
       "      <td>Ginny &amp; Georgia</td>\n",
       "      <td>Angsty and awkward fifteen year old Ginny Mill...</td>\n",
       "      <td>122.521</td>\n",
       "      <td>/e4aqizYQ8eeTGNZMq6WiFfqoZbz.jpg</td>\n",
       "      <td>8.1</td>\n",
       "      <td>553</td>\n",
       "      <td>NaN</td>\n",
       "      <td>NaN</td>\n",
       "      <td>NaN</td>\n",
       "      <td>NaN</td>\n",
       "      <td>NaN</td>\n",
       "    </tr>\n",
       "  </tbody>\n",
       "</table>\n",
       "</div>"
      ],
      "text/plain": [
       "                      backdrop_path first_air_date    genre_ids      id  \\\n",
       "0  /qvayCcPYYae6tVDbMgklhTFZ9xo.jpg     2020-11-01  [16, 10762]  114718   \n",
       "1  /34OGjFEbHj0E3lE2w0iTUVq0CBz.jpg     2020-10-23         [18]   87739   \n",
       "2  /m7FqiUOvsSk7Ulg2oRMfFGcLeT9.jpg     2020-12-25         [18]   91239   \n",
       "3  /gL8myjGc2qrmqVosyGm5CWTir9A.jpg     2018-05-02  [10759, 18]   77169   \n",
       "4  /zQwFXzdFkkfar7IeMSzVsMJXSU7.jpg     2021-02-24     [35, 18]  117581   \n",
       "\n",
       "  media_type                name origin_country original_language  \\\n",
       "0         tv           CoComelon       [GB, US]                en   \n",
       "1         tv  The Queen's Gambit           [US]                en   \n",
       "2         tv          Bridgerton           [US]                en   \n",
       "3         tv           Cobra Kai           [US]                en   \n",
       "4         tv     Ginny & Georgia           [US]                en   \n",
       "\n",
       "        original_name                                           overview  \\\n",
       "0           CoComelon                        Cocomelon Kids Hits, Vol. 1   \n",
       "1  The Queen's Gambit  In a Kentucky orphanage in the 1950s, a young ...   \n",
       "2          Bridgerton  Wealth, lust, and betrayal set in the backdrop...   \n",
       "3           Cobra Kai  This Karate Kid sequel series picks up 30 year...   \n",
       "4     Ginny & Georgia  Angsty and awkward fifteen year old Ginny Mill...   \n",
       "\n",
       "   popularity                       poster_path  vote_average  vote_count  \\\n",
       "0       2.744  /ngFacWQt0QxR6NArhQ4kj8a4IkA.jpg           6.6           5   \n",
       "1     100.144  /zU0htwkhNvBQdVSIKB9s6hgVeFK.jpg           8.7        1933   \n",
       "2      99.582  /qaewZKBKmXjb4ZfFBb1LCug6BE8.jpg           8.2        1124   \n",
       "3     329.624  /4CkQvdUAtoLW3qkjWi7t1MTnW7R.jpg           8.1        3157   \n",
       "4     122.521  /e4aqizYQ8eeTGNZMq6WiFfqoZbz.jpg           8.1         553   \n",
       "\n",
       "  adult original_title release_date title video  \n",
       "0   NaN            NaN          NaN   NaN   NaN  \n",
       "1   NaN            NaN          NaN   NaN   NaN  \n",
       "2   NaN            NaN          NaN   NaN   NaN  \n",
       "3   NaN            NaN          NaN   NaN   NaN  \n",
       "4   NaN            NaN          NaN   NaN   NaN  "
      ]
     },
     "execution_count": 46,
     "metadata": {},
     "output_type": "execute_result"
    }
   ],
   "source": [
    "additional_df.head()"
   ]
  },
  {
   "cell_type": "code",
   "execution_count": 48,
   "id": "215e821a",
   "metadata": {},
   "outputs": [
    {
     "data": {
      "text/html": [
       "<div>\n",
       "<style scoped>\n",
       "    .dataframe tbody tr th:only-of-type {\n",
       "        vertical-align: middle;\n",
       "    }\n",
       "\n",
       "    .dataframe tbody tr th {\n",
       "        vertical-align: top;\n",
       "    }\n",
       "\n",
       "    .dataframe thead th {\n",
       "        text-align: right;\n",
       "    }\n",
       "</style>\n",
       "<table border=\"1\" class=\"dataframe\">\n",
       "  <thead>\n",
       "    <tr style=\"text-align: right;\">\n",
       "      <th></th>\n",
       "      <th>name</th>\n",
       "      <th>original_name</th>\n",
       "      <th>original_title</th>\n",
       "    </tr>\n",
       "  </thead>\n",
       "  <tbody>\n",
       "    <tr>\n",
       "      <th>0</th>\n",
       "      <td>CoComelon</td>\n",
       "      <td>CoComelon</td>\n",
       "      <td>NaN</td>\n",
       "    </tr>\n",
       "    <tr>\n",
       "      <th>1</th>\n",
       "      <td>The Queen's Gambit</td>\n",
       "      <td>The Queen's Gambit</td>\n",
       "      <td>NaN</td>\n",
       "    </tr>\n",
       "    <tr>\n",
       "      <th>2</th>\n",
       "      <td>Bridgerton</td>\n",
       "      <td>Bridgerton</td>\n",
       "      <td>NaN</td>\n",
       "    </tr>\n",
       "    <tr>\n",
       "      <th>3</th>\n",
       "      <td>Cobra Kai</td>\n",
       "      <td>Cobra Kai</td>\n",
       "      <td>NaN</td>\n",
       "    </tr>\n",
       "    <tr>\n",
       "      <th>4</th>\n",
       "      <td>Ginny &amp; Georgia</td>\n",
       "      <td>Ginny &amp; Georgia</td>\n",
       "      <td>NaN</td>\n",
       "    </tr>\n",
       "    <tr>\n",
       "      <th>...</th>\n",
       "      <td>...</td>\n",
       "      <td>...</td>\n",
       "      <td>...</td>\n",
       "    </tr>\n",
       "    <tr>\n",
       "      <th>144</th>\n",
       "      <td>NaN</td>\n",
       "      <td>NaN</td>\n",
       "      <td>The Secret Life of Pets 2</td>\n",
       "    </tr>\n",
       "    <tr>\n",
       "      <th>145</th>\n",
       "      <td>NaN</td>\n",
       "      <td>NaN</td>\n",
       "      <td>Your Highness</td>\n",
       "    </tr>\n",
       "    <tr>\n",
       "      <th>146</th>\n",
       "      <td>NaN</td>\n",
       "      <td>NaN</td>\n",
       "      <td>Are We There Yet?</td>\n",
       "    </tr>\n",
       "    <tr>\n",
       "      <th>147</th>\n",
       "      <td>NaN</td>\n",
       "      <td>NaN</td>\n",
       "      <td>Step Up Revolution</td>\n",
       "    </tr>\n",
       "    <tr>\n",
       "      <th>148</th>\n",
       "      <td>NaN</td>\n",
       "      <td>NaN</td>\n",
       "      <td>The BFG</td>\n",
       "    </tr>\n",
       "  </tbody>\n",
       "</table>\n",
       "<p>149 rows × 3 columns</p>\n",
       "</div>"
      ],
      "text/plain": [
       "                   name       original_name             original_title\n",
       "0             CoComelon           CoComelon                        NaN\n",
       "1    The Queen's Gambit  The Queen's Gambit                        NaN\n",
       "2            Bridgerton          Bridgerton                        NaN\n",
       "3             Cobra Kai           Cobra Kai                        NaN\n",
       "4       Ginny & Georgia     Ginny & Georgia                        NaN\n",
       "..                  ...                 ...                        ...\n",
       "144                 NaN                 NaN  The Secret Life of Pets 2\n",
       "145                 NaN                 NaN              Your Highness\n",
       "146                 NaN                 NaN          Are We There Yet?\n",
       "147                 NaN                 NaN         Step Up Revolution\n",
       "148                 NaN                 NaN                    The BFG\n",
       "\n",
       "[149 rows x 3 columns]"
      ]
     },
     "execution_count": 48,
     "metadata": {},
     "output_type": "execute_result"
    }
   ],
   "source": [
    "additional_df.loc[:, ['name', 'original_name', 'original_title']]"
   ]
  },
  {
   "cell_type": "code",
   "execution_count": 50,
   "id": "2921bc50",
   "metadata": {},
   "outputs": [
    {
     "data": {
      "text/plain": [
       "float"
      ]
     },
     "execution_count": 50,
     "metadata": {},
     "output_type": "execute_result"
    }
   ],
   "source": [
    "type(additional_df.loc[0, 'original_title'])"
   ]
  },
  {
   "cell_type": "code",
   "execution_count": 51,
   "id": "31cd2289",
   "metadata": {},
   "outputs": [],
   "source": [
    "additional_df.to_csv('TMDB-Netflix Data.csv', index=False)"
   ]
  },
  {
   "cell_type": "code",
   "execution_count": null,
   "id": "cac7e961",
   "metadata": {},
   "outputs": [],
   "source": []
  }
 ],
 "metadata": {
  "kernelspec": {
   "display_name": "Python 3",
   "language": "python",
   "name": "python3"
  },
  "language_info": {
   "codemirror_mode": {
    "name": "ipython",
    "version": 3
   },
   "file_extension": ".py",
   "mimetype": "text/x-python",
   "name": "python",
   "nbconvert_exporter": "python",
   "pygments_lexer": "ipython3",
   "version": "3.8.8"
  }
 },
 "nbformat": 4,
 "nbformat_minor": 5
}
