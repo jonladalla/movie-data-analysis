{
 "cells": [
  {
   "cell_type": "markdown",
   "id": "18adbc4b",
   "metadata": {},
   "source": [
    "# Netflix Top Ten"
   ]
  },
  {
   "cell_type": "code",
   "execution_count": 2,
   "id": "be1a7f90",
   "metadata": {},
   "outputs": [],
   "source": [
    "import pandas as pd\n",
    "import requests\n",
    "from bs4 import BeautifulSoup"
   ]
  },
  {
   "cell_type": "code",
   "execution_count": 3,
   "id": "79118ed8",
   "metadata": {},
   "outputs": [
    {
     "data": {
      "text/plain": [
       "['https://www.the-numbers.com/home-market/netflix-daily-chart/2021/01',\n",
       " 'https://www.the-numbers.com/home-market/netflix-daily-chart/2021/02',\n",
       " 'https://www.the-numbers.com/home-market/netflix-daily-chart/2021/03',\n",
       " 'https://www.the-numbers.com/home-market/netflix-daily-chart/2021/04',\n",
       " 'https://www.the-numbers.com/home-market/netflix-daily-chart/2021/05']"
      ]
     },
     "execution_count": 3,
     "metadata": {},
     "output_type": "execute_result"
    }
   ],
   "source": [
    "urls = ['https://www.the-numbers.com/home-market/netflix-daily-chart/2021/0{}'.format(i) for i in range(1, 6)]\n",
    "urls"
   ]
  },
  {
   "cell_type": "code",
   "execution_count": 4,
   "id": "af2b2ee0",
   "metadata": {},
   "outputs": [],
   "source": [
    "def add_days(url):\n",
    "    days = []\n",
    "    for i in range(1, 10):\n",
    "        days.append(url + '/0' + str(i))\n",
    "    for i in range(10, 29):\n",
    "        days.append(url + '/' + str(i))\n",
    "    if url[-1] == '4':\n",
    "        for i in range(29, 31):\n",
    "            days.append(url + '/' + str(i))\n",
    "    elif url[-1] != '2':\n",
    "        for i in range(29, 32):\n",
    "            days.append(url + '/' + str(i))\n",
    "    return days"
   ]
  },
  {
   "cell_type": "code",
   "execution_count": 5,
   "id": "e9be7269",
   "metadata": {},
   "outputs": [],
   "source": [
    "all_urls = []\n",
    "\n",
    "for url in urls:\n",
    "    all_urls.extend(add_days(url))"
   ]
  },
  {
   "cell_type": "code",
   "execution_count": 6,
   "id": "9df73a04",
   "metadata": {},
   "outputs": [
    {
     "data": {
      "text/plain": [
       "'https://www.the-numbers.com/home-market/netflix-daily-chart/2021/01/01'"
      ]
     },
     "execution_count": 6,
     "metadata": {},
     "output_type": "execute_result"
    }
   ],
   "source": [
    "all_urls[0]"
   ]
  },
  {
   "cell_type": "code",
   "execution_count": 7,
   "id": "58f47221",
   "metadata": {},
   "outputs": [],
   "source": [
    "def get_data(url):\n",
    "    request = requests.get(url)\n",
    "    df_list = pd.read_html(request.content)\n",
    "    return df_list[1]"
   ]
  },
  {
   "cell_type": "code",
   "execution_count": 8,
   "id": "58c967a4",
   "metadata": {},
   "outputs": [
    {
     "data": {
      "text/html": [
       "<div>\n",
       "<style scoped>\n",
       "    .dataframe tbody tr th:only-of-type {\n",
       "        vertical-align: middle;\n",
       "    }\n",
       "\n",
       "    .dataframe tbody tr th {\n",
       "        vertical-align: top;\n",
       "    }\n",
       "\n",
       "    .dataframe thead th {\n",
       "        text-align: right;\n",
       "    }\n",
       "</style>\n",
       "<table border=\"1\" class=\"dataframe\">\n",
       "  <thead>\n",
       "    <tr style=\"text-align: right;\">\n",
       "      <th></th>\n",
       "      <th>Rank</th>\n",
       "      <th>YD</th>\n",
       "      <th>LW</th>\n",
       "      <th>Title</th>\n",
       "      <th>Type</th>\n",
       "      <th>NetflixExcl.</th>\n",
       "      <th>NetflixReleaseDate</th>\n",
       "      <th>Days InTop 10</th>\n",
       "      <th>Viewer-shipScore</th>\n",
       "      <th>WatchNow</th>\n",
       "    </tr>\n",
       "  </thead>\n",
       "  <tbody>\n",
       "    <tr>\n",
       "      <th>0</th>\n",
       "      <td>1</td>\n",
       "      <td>(1)</td>\n",
       "      <td>(-)</td>\n",
       "      <td>Thunder Force</td>\n",
       "      <td>Movie</td>\n",
       "      <td>Yes</td>\n",
       "      <td>Apr 9, 2021</td>\n",
       "      <td>2</td>\n",
       "      <td>20</td>\n",
       "      <td>Watch Now</td>\n",
       "    </tr>\n",
       "    <tr>\n",
       "      <th>1</th>\n",
       "      <td>2</td>\n",
       "      <td>(3)</td>\n",
       "      <td>(-)</td>\n",
       "      <td>This is a Robbery: The Worl…</td>\n",
       "      <td>TV Show</td>\n",
       "      <td>Yes</td>\n",
       "      <td>Apr 7, 2021</td>\n",
       "      <td>3</td>\n",
       "      <td>25</td>\n",
       "      <td>Watch Now</td>\n",
       "    </tr>\n",
       "    <tr>\n",
       "      <th>2</th>\n",
       "      <td>3</td>\n",
       "      <td>(2)</td>\n",
       "      <td>(1)</td>\n",
       "      <td>Who Killed Sara?</td>\n",
       "      <td>TV Show</td>\n",
       "      <td>Yes</td>\n",
       "      <td>Mar 24, 2021</td>\n",
       "      <td>16</td>\n",
       "      <td>150</td>\n",
       "      <td>Watch Now</td>\n",
       "    </tr>\n",
       "    <tr>\n",
       "      <th>3</th>\n",
       "      <td>4</td>\n",
       "      <td>(7)</td>\n",
       "      <td>(-)</td>\n",
       "      <td>The Little Rascals</td>\n",
       "      <td>Movie</td>\n",
       "      <td>NaN</td>\n",
       "      <td>Apr 2, 2021</td>\n",
       "      <td>2</td>\n",
       "      <td>11</td>\n",
       "      <td>Watch Now</td>\n",
       "    </tr>\n",
       "    <tr>\n",
       "      <th>4</th>\n",
       "      <td>5</td>\n",
       "      <td>(5)</td>\n",
       "      <td>(7)</td>\n",
       "      <td>The Serpent</td>\n",
       "      <td>TV Show</td>\n",
       "      <td>Yes</td>\n",
       "      <td>Apr 2, 2021</td>\n",
       "      <td>8</td>\n",
       "      <td>50</td>\n",
       "      <td>Watch Now</td>\n",
       "    </tr>\n",
       "    <tr>\n",
       "      <th>5</th>\n",
       "      <td>6</td>\n",
       "      <td>(4)</td>\n",
       "      <td>(-)</td>\n",
       "      <td>What Lies Below</td>\n",
       "      <td>Movie</td>\n",
       "      <td>NaN</td>\n",
       "      <td>Apr 4, 2021</td>\n",
       "      <td>7</td>\n",
       "      <td>59</td>\n",
       "      <td>Watch Now</td>\n",
       "    </tr>\n",
       "    <tr>\n",
       "      <th>6</th>\n",
       "      <td>7</td>\n",
       "      <td>(6)</td>\n",
       "      <td>(9)</td>\n",
       "      <td>Cocomelon</td>\n",
       "      <td>TV Show</td>\n",
       "      <td>Yes</td>\n",
       "      <td>Jun 1, 2020</td>\n",
       "      <td>170</td>\n",
       "      <td>533</td>\n",
       "      <td>Watch Now</td>\n",
       "    </tr>\n",
       "    <tr>\n",
       "      <th>7</th>\n",
       "      <td>8</td>\n",
       "      <td>(8)</td>\n",
       "      <td>(2)</td>\n",
       "      <td>Concrete Cowboy</td>\n",
       "      <td>Movie</td>\n",
       "      <td>Yes</td>\n",
       "      <td>Apr 2, 2021</td>\n",
       "      <td>9</td>\n",
       "      <td>59</td>\n",
       "      <td>Watch Now</td>\n",
       "    </tr>\n",
       "    <tr>\n",
       "      <th>8</th>\n",
       "      <td>9</td>\n",
       "      <td>(9)</td>\n",
       "      <td>(-)</td>\n",
       "      <td>Legally Blonde</td>\n",
       "      <td>Movie</td>\n",
       "      <td>Yes</td>\n",
       "      <td>Apr 1, 2021</td>\n",
       "      <td>5</td>\n",
       "      <td>10</td>\n",
       "      <td>Watch Now</td>\n",
       "    </tr>\n",
       "    <tr>\n",
       "      <th>9</th>\n",
       "      <td>10</td>\n",
       "      <td>(-)</td>\n",
       "      <td>(-)</td>\n",
       "      <td>Sniper: Ghost Shooter</td>\n",
       "      <td>Movie</td>\n",
       "      <td>NaN</td>\n",
       "      <td>Apr 1, 2021</td>\n",
       "      <td>6</td>\n",
       "      <td>14</td>\n",
       "      <td>Watch Now</td>\n",
       "    </tr>\n",
       "  </tbody>\n",
       "</table>\n",
       "</div>"
      ],
      "text/plain": [
       "   Rank   YD   LW                         Title     Type NetflixExcl.  \\\n",
       "0     1  (1)  (-)                 Thunder Force    Movie          Yes   \n",
       "1     2  (3)  (-)  This is a Robbery: The Worl…  TV Show          Yes   \n",
       "2     3  (2)  (1)              Who Killed Sara?  TV Show          Yes   \n",
       "3     4  (7)  (-)            The Little Rascals    Movie          NaN   \n",
       "4     5  (5)  (7)                   The Serpent  TV Show          Yes   \n",
       "5     6  (4)  (-)               What Lies Below    Movie          NaN   \n",
       "6     7  (6)  (9)                     Cocomelon  TV Show          Yes   \n",
       "7     8  (8)  (2)               Concrete Cowboy    Movie          Yes   \n",
       "8     9  (9)  (-)                Legally Blonde    Movie          Yes   \n",
       "9    10  (-)  (-)         Sniper: Ghost Shooter    Movie          NaN   \n",
       "\n",
       "  NetflixReleaseDate  Days InTop 10  Viewer-shipScore   WatchNow  \n",
       "0        Apr 9, 2021              2                20  Watch Now  \n",
       "1        Apr 7, 2021              3                25  Watch Now  \n",
       "2       Mar 24, 2021             16               150  Watch Now  \n",
       "3        Apr 2, 2021              2                11  Watch Now  \n",
       "4        Apr 2, 2021              8                50  Watch Now  \n",
       "5        Apr 4, 2021              7                59  Watch Now  \n",
       "6        Jun 1, 2020            170               533  Watch Now  \n",
       "7        Apr 2, 2021              9                59  Watch Now  \n",
       "8        Apr 1, 2021              5                10  Watch Now  \n",
       "9        Apr 1, 2021              6                14  Watch Now  "
      ]
     },
     "execution_count": 8,
     "metadata": {},
     "output_type": "execute_result"
    }
   ],
   "source": [
    "get_data(all_urls[100])"
   ]
  },
  {
   "cell_type": "code",
   "execution_count": 9,
   "id": "a4238826",
   "metadata": {},
   "outputs": [],
   "source": [
    "top_ten_list = []\n",
    "\n",
    "for i in all_urls:\n",
    "    top_ten_list.append(get_data(i))"
   ]
  },
  {
   "cell_type": "code",
   "execution_count": 10,
   "id": "4c3fb1a1",
   "metadata": {},
   "outputs": [
    {
     "data": {
      "text/plain": [
       "151"
      ]
     },
     "execution_count": 10,
     "metadata": {},
     "output_type": "execute_result"
    }
   ],
   "source": [
    "len(top_ten_list)"
   ]
  },
  {
   "cell_type": "code",
   "execution_count": 11,
   "id": "56c9f994",
   "metadata": {},
   "outputs": [],
   "source": [
    "df = pd.concat(top_ten_list, ignore_index=True)"
   ]
  },
  {
   "cell_type": "code",
   "execution_count": 100,
   "id": "1c60a5ca",
   "metadata": {},
   "outputs": [],
   "source": [
    "df.sort_values(by=['Viewer-shipScore'], ascending=False, inplace=True)"
   ]
  },
  {
   "cell_type": "code",
   "execution_count": 12,
   "id": "14f34680",
   "metadata": {},
   "outputs": [
    {
     "data": {
      "text/html": [
       "<div>\n",
       "<style scoped>\n",
       "    .dataframe tbody tr th:only-of-type {\n",
       "        vertical-align: middle;\n",
       "    }\n",
       "\n",
       "    .dataframe tbody tr th {\n",
       "        vertical-align: top;\n",
       "    }\n",
       "\n",
       "    .dataframe thead th {\n",
       "        text-align: right;\n",
       "    }\n",
       "</style>\n",
       "<table border=\"1\" class=\"dataframe\">\n",
       "  <thead>\n",
       "    <tr style=\"text-align: right;\">\n",
       "      <th></th>\n",
       "      <th>Rank</th>\n",
       "      <th>YD</th>\n",
       "      <th>LW</th>\n",
       "      <th>Title</th>\n",
       "      <th>Type</th>\n",
       "      <th>NetflixExcl.</th>\n",
       "      <th>NetflixReleaseDate</th>\n",
       "      <th>Days InTop 10</th>\n",
       "      <th>Viewer-shipScore</th>\n",
       "      <th>WatchNow</th>\n",
       "    </tr>\n",
       "  </thead>\n",
       "  <tbody>\n",
       "    <tr>\n",
       "      <th>0</th>\n",
       "      <td>1</td>\n",
       "      <td>(1)</td>\n",
       "      <td>(-)</td>\n",
       "      <td>Bridgerton</td>\n",
       "      <td>TV Show</td>\n",
       "      <td>Yes</td>\n",
       "      <td>Dec 25, 2020</td>\n",
       "      <td>7</td>\n",
       "      <td>67</td>\n",
       "      <td>Watch Now</td>\n",
       "    </tr>\n",
       "    <tr>\n",
       "      <th>1</th>\n",
       "      <td>2</td>\n",
       "      <td>(3)</td>\n",
       "      <td>(-)</td>\n",
       "      <td>Death to 2020</td>\n",
       "      <td>Concert/Perf…</td>\n",
       "      <td>Yes</td>\n",
       "      <td>Dec 27, 2020</td>\n",
       "      <td>5</td>\n",
       "      <td>37</td>\n",
       "      <td>Watch Now</td>\n",
       "    </tr>\n",
       "    <tr>\n",
       "      <th>2</th>\n",
       "      <td>3</td>\n",
       "      <td>(2)</td>\n",
       "      <td>(-)</td>\n",
       "      <td>We Can Be Heroes</td>\n",
       "      <td>Movie</td>\n",
       "      <td>Yes</td>\n",
       "      <td>Dec 25, 2020</td>\n",
       "      <td>7</td>\n",
       "      <td>58</td>\n",
       "      <td>Watch Now</td>\n",
       "    </tr>\n",
       "    <tr>\n",
       "      <th>3</th>\n",
       "      <td>4</td>\n",
       "      <td>(-)</td>\n",
       "      <td>(-)</td>\n",
       "      <td>Chilling Adventures of Sabrina</td>\n",
       "      <td>TV Show</td>\n",
       "      <td>Yes</td>\n",
       "      <td>Oct 26, 2018</td>\n",
       "      <td>1</td>\n",
       "      <td>7</td>\n",
       "      <td>Watch Now</td>\n",
       "    </tr>\n",
       "    <tr>\n",
       "      <th>4</th>\n",
       "      <td>5</td>\n",
       "      <td>(4)</td>\n",
       "      <td>(1)</td>\n",
       "      <td>The Midnight Sky</td>\n",
       "      <td>Movie</td>\n",
       "      <td>Yes</td>\n",
       "      <td>Dec 23, 2020</td>\n",
       "      <td>9</td>\n",
       "      <td>77</td>\n",
       "      <td>Watch Now</td>\n",
       "    </tr>\n",
       "  </tbody>\n",
       "</table>\n",
       "</div>"
      ],
      "text/plain": [
       "   Rank   YD   LW                           Title           Type NetflixExcl.  \\\n",
       "0     1  (1)  (-)                      Bridgerton        TV Show          Yes   \n",
       "1     2  (3)  (-)                   Death to 2020  Concert/Perf…          Yes   \n",
       "2     3  (2)  (-)                We Can Be Heroes          Movie          Yes   \n",
       "3     4  (-)  (-)  Chilling Adventures of Sabrina        TV Show          Yes   \n",
       "4     5  (4)  (1)                The Midnight Sky          Movie          Yes   \n",
       "\n",
       "  NetflixReleaseDate  Days InTop 10  Viewer-shipScore   WatchNow  \n",
       "0       Dec 25, 2020              7                67  Watch Now  \n",
       "1       Dec 27, 2020              5                37  Watch Now  \n",
       "2       Dec 25, 2020              7                58  Watch Now  \n",
       "3       Oct 26, 2018              1                 7  Watch Now  \n",
       "4       Dec 23, 2020              9                77  Watch Now  "
      ]
     },
     "execution_count": 12,
     "metadata": {},
     "output_type": "execute_result"
    }
   ],
   "source": [
    "df.head()"
   ]
  },
  {
   "cell_type": "code",
   "execution_count": 13,
   "id": "de405e47",
   "metadata": {},
   "outputs": [],
   "source": [
    "df.to_csv('Netflix Top 10.csv', index=False)"
   ]
  },
  {
   "cell_type": "code",
   "execution_count": null,
   "id": "4d6d725c",
   "metadata": {},
   "outputs": [],
   "source": []
  }
 ],
 "metadata": {
  "kernelspec": {
   "display_name": "Python 3",
   "language": "python",
   "name": "python3"
  },
  "language_info": {
   "codemirror_mode": {
    "name": "ipython",
    "version": 3
   },
   "file_extension": ".py",
   "mimetype": "text/x-python",
   "name": "python",
   "nbconvert_exporter": "python",
   "pygments_lexer": "ipython3",
   "version": "3.8.8"
  }
 },
 "nbformat": 4,
 "nbformat_minor": 5
}
